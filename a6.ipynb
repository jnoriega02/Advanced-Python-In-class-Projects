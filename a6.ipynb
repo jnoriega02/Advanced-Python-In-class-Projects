{
 "cells": [
  {
   "cell_type": "markdown",
   "metadata": {},
   "source": [
    "# Name & Z-ID\n",
    "\n",
    "Juviny Noriega\n",
    "\n",
    "Z1917876\n",
    "\n",
    "ASSIGNMENT 6\n",
    "\n"
   ]
  },
  {
   "cell_type": "markdown",
   "metadata": {},
   "source": [
    "# 1. Product Classes (20 pts)\n"
   ]
  },
  {
   "cell_type": "code",
   "execution_count": 185,
   "metadata": {},
   "outputs": [],
   "source": [
    "# ''Create four classes related to the products your online store \n",
    "# will sell: StoreItem, HouseholdItem, GroceryItem, BulkItem''\n",
    "\n",
    "\n",
    "class StoreItem:\n",
    "    def __init__(self,name: chr,sku: int,price: float):\n",
    "        self.name=name\n",
    "        self.sku=sku\n",
    "        self.price=price\n",
    "        #base class\n",
    "        \n",
    "    def __str__(self):\n",
    "        return f\"{self.name} ({self.sku}) @ {self.price}\" # dunder method    \n",
    "        \n",
    "class GroceryItem(StoreItem):   \n",
    "    def __init__(self,name,sku,price,nutrition={}):\n",
    "        super().__init__(name,sku,price)\n",
    "        \n",
    "        self.nutrition=nutrition\n",
    "        \n",
    "    def __str__(self):\n",
    "        return super().__str__()\n",
    "        \n",
    "class HouseholdItem(StoreItem):\n",
    "    def __init__(self,name,sku,price,brand_name: chr):\n",
    "        super().__init__(name,sku,price)\n",
    "        \n",
    "        self.brand_name=brand_name\n",
    "    def __str__(self):\n",
    "        return super().__str__()\n",
    "        \n",
    "class BulkItem(GroceryItem):\n",
    "    def __init__(self,name,sku,price,units: chr):\n",
    "        super().__init__(name,sku,price)\n",
    "        \n",
    "        self.units=units\n",
    "    def __str__(self):\n",
    "        return f\"{self.name} ({self.sku}) @ {self.price}/{self.units}\" # dunder method\n",
    "        \n",
    "        \n",
    "\n",
    "        \n",
    "\n",
    "        \n",
    "\n",
    "\n",
    "        \n",
    "    "
   ]
  },
  {
   "cell_type": "markdown",
   "metadata": {},
   "source": [
    "# 2. Inventory Class (20 pts)\n",
    "\n",
    "Create an Inventory class that stores both the items the store carries and the amount of each item that the store has in stock"
   ]
  },
  {
   "cell_type": "code",
   "execution_count": 186,
   "metadata": {},
   "outputs": [],
   "source": [
    "class Inventory():\n",
    "    def __init__(self):\n",
    "        self.items = {}  # Stores items with SKU as key and (item object, quantity) as value\n",
    "\n",
    "    def add_items(self, item, amount):\n",
    "        if item.sku in self.items:\n",
    "            self.items[item.sku] = (item, self.items[item.sku][1] + amount)\n",
    "        else:\n",
    "            self.items[item.sku] = (item, amount)\n",
    "\n",
    "    def remove_items(self, item, amount):\n",
    "        if item.sku not in self.items or self.items[item.sku][1] < amount:\n",
    "            raise Exception(f\"Cannot remove {amount} of {item.name}; not enough in inventory or not found.\")\n",
    "        self.items[item.sku] = (item, self.items[item.sku][1] - amount)\n",
    "\n",
    "    def find_item(self, sku):\n",
    "        if sku not in self.items:\n",
    "            raise KeyError(f\"No item found with SKU {sku}.\")\n",
    "        return self.items[sku][0]\n",
    "\n",
    "    def has_enough(self, item, amount):\n",
    "        return item.sku in self.items and self.items[item.sku][1] >= amount\n",
    "\n",
    "    def __str__(self):\n",
    "        inventory_summary = \"\"\n",
    "        for sku, (item, quantity) in self.items.items():\n",
    "            inventory_summary += f\"{quantity} {item}\\n\"\n",
    "        return inventory_summary.strip()\n",
    "                \n",
    "                \n",
    "        \n",
    "    \n",
    "    \n",
    "                \n",
    "            \n",
    "            \n",
    "        \n",
    "\n",
    "        "
   ]
  },
  {
   "cell_type": "markdown",
   "metadata": {},
   "source": [
    "#  3. ShoppingCart Class (20 pts)"
   ]
  },
  {
   "cell_type": "code",
   "execution_count": 187,
   "metadata": {},
   "outputs": [],
   "source": [
    "class ShoppingCart(Inventory):\n",
    "    def __init__(self, products={}):\n",
    "        self.products=products\n",
    "    'It should have add_items and remove_items methods that take a StoreItem object and an amount and adds or removes'\n",
    "    def add_items(self, item, amount=1):\n",
    "        # Correct handling for storing items as (item, amount)\n",
    "        self.products[item.sku] = (item, self.products.get(item.sku, (None, 0))[1] + amount)\n",
    "    def remove_items(self, item: StoreItem|BulkItem|HouseholdItem|GroceryItem, amount=1):\n",
    "        if item.sku in self.products:\n",
    "            self.products[item] -= amount # reducing by amount\n",
    "            if self.products[item] < 0: #ensures you cannot have less than 0 in quantity\n",
    "                self.products[item]==0\n",
    "                raise Exception(\"Cannot remove more items than in inventory , Quantity has been reset to 0\")\n",
    "        else:\n",
    "            raise Exception('Cannot remove an item that does not exist')\n",
    "    \n",
    "    \n",
    "    'dd a method that returns a human-readable string with all the items in the cart and their amounts'\n",
    "    def __str__(self):\n",
    "        result = \"\"\n",
    "        for sku, (item, quantity) in self.products.items():\n",
    "            # Use the __str__ method of the item to get a human-readable description\n",
    "            item_description = str(item)  # This calls the __str__ method of StoreItem or its subclasses\n",
    "            result += f\"{quantity} {item_description}\\n\"\n",
    "        return result\n",
    "    \n",
    "    'add support for += and -= operators that will add or remove a single (1) item (or unit) from the cart'\n",
    "    def __iadd__(self, item: StoreItem|BulkItem|HouseholdItem|GroceryItem):\n",
    "        self.add_items(item, 1)\n",
    "        return self\n",
    "\n",
    "    def __isub__(self, item: StoreItem|BulkItem|HouseholdItem|GroceryItem):\n",
    "        self.remove_items(item, 1)\n",
    "        return self\n",
    "    'add a cost method that computes the total cost for all of the items in the cart'\n",
    "    def cost(self):\n",
    "        total_cost = 0\n",
    "        for item, amount in self.inventory.items():\n",
    "            total_cost += item.price * amount\n",
    "        return total_cost"
   ]
  },
  {
   "cell_type": "markdown",
   "metadata": {},
   "source": [
    "# 4. Store Class (20 pts)\n",
    "\n",
    "The Store class will keep track of both the inventory and the customers shopping."
   ]
  },
  {
   "cell_type": "code",
   "execution_count": 188,
   "metadata": {},
   "outputs": [],
   "source": [
    "class Store:\n",
    "    max_carts = 10\n",
    "    carts_in_use = 0\n",
    "\n",
    "    def __init__(self):\n",
    "        self.inventory = Inventory()\n",
    "        self.active_carts = []\n",
    "\n",
    "    'class method set_max_carts that sets this variable, raising an exception if this value is not a non-negative integer'\n",
    "    @classmethod\n",
    "    def set_max_carts(cls, max_carts):\n",
    "        if not isinstance(max_carts, int) or max_carts < 0:\n",
    "            raise ValueError(\"Max carts must be a non-negative integer.\")\n",
    "        cls.max_carts = max_carts\n",
    "    'get_cart should then raise an exception if the store has too many carts are in use.' \n",
    "    def get_cart(self):\n",
    "        if len(self.active_carts) >= Store.max_carts:\n",
    "            raise Exception(\"Maximum number of carts in use.\")\n",
    "        cart = ShoppingCart()\n",
    "        self.active_carts.append(cart)\n",
    "        return cart\n",
    "\n",
    "    def checkout(self, cart):\n",
    "        'checkout method that checks the inventory to make sure the number of items being bought in the shopping cart are available and then deducts the quantities selected in the shopping cart from the inventory'\n",
    "        total_cost = 0\n",
    "        for sku, (item, amount) in cart.products.items():  # Correctly access the (item, amount) tuple\n",
    "            if not self.inventory.has_enough(item, amount):\n",
    "                raise Exception(f\"Not enough stock for item {item.name}.\")\n",
    "            total_cost += item.price * amount\n",
    "            self.inventory.remove_items(item, amount)\n",
    "        self.active_carts.remove(cart)\n",
    "        return total_cost\n",
    "        \n",
    "        "
   ]
  },
  {
   "cell_type": "markdown",
   "metadata": {},
   "source": [
    "# 6. Summary and Testing\n",
    "The final list of classes and methods to be added. Note that all classes should have constructors that properly initialize objects, and the instance fields are not listed here."
   ]
  },
  {
   "cell_type": "code",
   "execution_count": 190,
   "metadata": {},
   "outputs": [
    {
     "name": "stdout",
     "output_type": "stream",
     "text": [
      "Inventory:\n",
      "10 Cheerios (38942) @ 3.99\n",
      "30 Trash Bags (38902) @ 5.99\n",
      "20 Bananas (4011) @ 0.59/lb\n",
      "25 Lettuce (3982) @ 2.99/head\n",
      "1 Oreos (27894) @ 3.29\n",
      "Cart:\n",
      "6 Bananas (4011) @ 0.59/lb\n",
      "2 Trash Bags (38902) @ 5.99\n",
      "2 Oreos (27894) @ 3.29\n",
      "\n"
     ]
    },
    {
     "ename": "Exception",
     "evalue": "Not enough stock for item Oreos.",
     "output_type": "error",
     "traceback": [
      "\u001b[1;31m---------------------------------------------------------------------------\u001b[0m",
      "\u001b[1;31mException\u001b[0m                                 Traceback (most recent call last)",
      "Cell \u001b[1;32mIn[190], line 18\u001b[0m\n\u001b[0;32m     15\u001b[0m \u001b[38;5;28mprint\u001b[39m(\u001b[38;5;124m\"\u001b[39m\u001b[38;5;124mCart:\u001b[39m\u001b[38;5;124m\"\u001b[39m)\n\u001b[0;32m     16\u001b[0m \u001b[38;5;28mprint\u001b[39m(my_cart)\n\u001b[1;32m---> 18\u001b[0m total_cost \u001b[38;5;241m=\u001b[39m \u001b[43mstore\u001b[49m\u001b[38;5;241;43m.\u001b[39;49m\u001b[43mcheckout\u001b[49m\u001b[43m(\u001b[49m\u001b[43mmy_cart\u001b[49m\u001b[43m)\u001b[49m\n\u001b[0;32m     19\u001b[0m \u001b[38;5;28mprint\u001b[39m(\u001b[38;5;124mf\u001b[39m\u001b[38;5;124m\"\u001b[39m\u001b[38;5;124mYou spent $\u001b[39m\u001b[38;5;132;01m{\u001b[39;00mtotal_cost\u001b[38;5;132;01m}\u001b[39;00m\u001b[38;5;124m\"\u001b[39m)\n\u001b[0;32m     21\u001b[0m \u001b[38;5;28mprint\u001b[39m(\u001b[38;5;124m\"\u001b[39m\u001b[38;5;124mUpdated Inventory:\u001b[39m\u001b[38;5;124m\"\u001b[39m)\n",
      "Cell \u001b[1;32mIn[188], line 26\u001b[0m, in \u001b[0;36mStore.checkout\u001b[1;34m(self, cart)\u001b[0m\n\u001b[0;32m     24\u001b[0m \u001b[38;5;28;01mfor\u001b[39;00m sku, (item, amount) \u001b[38;5;129;01min\u001b[39;00m cart\u001b[38;5;241m.\u001b[39mproducts\u001b[38;5;241m.\u001b[39mitems():  \u001b[38;5;66;03m# Correctly access the (item, amount) tuple\u001b[39;00m\n\u001b[0;32m     25\u001b[0m     \u001b[38;5;28;01mif\u001b[39;00m \u001b[38;5;129;01mnot\u001b[39;00m \u001b[38;5;28mself\u001b[39m\u001b[38;5;241m.\u001b[39minventory\u001b[38;5;241m.\u001b[39mhas_enough(item, amount):\n\u001b[1;32m---> 26\u001b[0m         \u001b[38;5;28;01mraise\u001b[39;00m \u001b[38;5;167;01mException\u001b[39;00m(\u001b[38;5;124mf\u001b[39m\u001b[38;5;124m\"\u001b[39m\u001b[38;5;124mNot enough stock for item \u001b[39m\u001b[38;5;132;01m{\u001b[39;00mitem\u001b[38;5;241m.\u001b[39mname\u001b[38;5;132;01m}\u001b[39;00m\u001b[38;5;124m.\u001b[39m\u001b[38;5;124m\"\u001b[39m)\n\u001b[0;32m     27\u001b[0m     total_cost \u001b[38;5;241m+\u001b[39m\u001b[38;5;241m=\u001b[39m item\u001b[38;5;241m.\u001b[39mprice \u001b[38;5;241m*\u001b[39m amount\n\u001b[0;32m     28\u001b[0m     \u001b[38;5;28mself\u001b[39m\u001b[38;5;241m.\u001b[39minventory\u001b[38;5;241m.\u001b[39mremove_items(item, amount)\n",
      "\u001b[1;31mException\u001b[0m: Not enough stock for item Oreos."
     ]
    }
   ],
   "source": [
    "store = Store()\n",
    "store.inventory.add_items(GroceryItem(\"Cheerios\", 38942, 3.99, {'calories': 200, 'fat': 0}), 10)\n",
    "store.inventory.add_items(HouseholdItem(\"Trash Bags\", 38902, 5.99, \"Hefty\"), 30)\n",
    "store.inventory.add_items(BulkItem(\"Bananas\", 4011, 0.59, \"lb\"), 20)\n",
    "store.inventory.add_items(BulkItem(\"Lettuce\", 3982, 2.99, \"head\"), 25)\n",
    "store.inventory.add_items(GroceryItem(\"Oreos\", 27894, 3.29), 1)\n",
    "\n",
    "print(\"Inventory:\")\n",
    "print(store.inventory)\n",
    "\n",
    "my_cart = store.get_cart()\n",
    "my_cart.add_items(store.inventory.find_item(4011), 3)\n",
    "my_cart.add_items(store.inventory.find_item(38902))\n",
    "my_cart.add_items(store.inventory.find_item(27894), 1)\n",
    "print(\"Cart:\")\n",
    "print(my_cart)\n",
    "\n",
    "total_cost = store.checkout(my_cart)\n",
    "print(f\"You spent ${total_cost}\")\n",
    "\n",
    "print(\"Updated Inventory:\")\n",
    "print(store.inventory)\n",
    "\n",
    "\n",
    "my_cart = store.get_cart()\n",
    "my_cart.add_items(store.inventory.find_item(4013), 3) # raises your  exception\n",
    "my_cart.add_items(store.inventory.find_item(38902), 1.5) # raises your exception\n",
    "store.inventory.remove_items(store.inventory.find_item(27894), 3) # raises your exceptio"
   ]
  }
 ],
 "metadata": {
  "kernelspec": {
   "display_name": "base",
   "language": "python",
   "name": "python3"
  },
  "language_info": {
   "codemirror_mode": {
    "name": "ipython",
    "version": 3
   },
   "file_extension": ".py",
   "mimetype": "text/x-python",
   "name": "python",
   "nbconvert_exporter": "python",
   "pygments_lexer": "ipython3",
   "version": "3.11.5"
  }
 },
 "nbformat": 4,
 "nbformat_minor": 2
}
