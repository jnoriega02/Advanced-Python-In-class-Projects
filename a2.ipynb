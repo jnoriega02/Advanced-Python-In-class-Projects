{
 "cells": [
  {
   "cell_type": "markdown",
   "id": "7982f4f0-73af-4d29-8b79-596103debec2",
   "metadata": {
    "tags": []
   },
   "source": [
    "# 0. Name & Z-ID (5 pts)\n",
    "Juviny Noriega Z1917876\n",
    "Assignment 2 \n",
    "Due Date: 2/7/2024"
   ]
  },
  {
   "cell_type": "markdown",
   "id": "8937deb1",
   "metadata": {},
   "source": [
    "# 1. Logarithm Base 3 (15 pts)"
   ]
  },
  {
   "cell_type": "code",
   "execution_count": 42,
   "id": "8cf81925",
   "metadata": {},
   "outputs": [
    {
     "name": "stdout",
     "output_type": "stream",
     "text": [
      "3\n",
      "4\n",
      "7\n"
     ]
    }
   ],
   "source": [
    "def log_func(base,a):   #function for base\n",
    "    result=0\n",
    "    while (a>=1):\n",
    "        a=a/base\n",
    "        result+=1\n",
    "        \n",
    "    return result-1\n",
    "        \n",
    "print (log_func(3,27))  #function instance \n",
    "print (log_func(3,81))\n",
    "print (log_func(3,2817))\n"
   ]
  },
  {
   "cell_type": "markdown",
   "id": "bd3768cd",
   "metadata": {},
   "source": [
    "# 2. Addition in FRACTRAN (25 pts)"
   ]
  },
  {
   "cell_type": "code",
   "execution_count": 43,
   "id": "c38f4134",
   "metadata": {},
   "outputs": [
    {
     "name": "stdout",
     "output_type": "stream",
     "text": [
      "Result for addition when a =  1 and b =  3  is  4\n",
      "Result for addition when a =  1 and b =  4  is  5\n",
      "Result for addition when a =  1 and b =  5  is  6\n",
      "Result for addition when a =  1 and b =  6  is  7\n",
      "Result for addition when a =  1 and b =  7  is  8\n",
      "Result for addition when a =  2 and b =  3  is  5\n",
      "Result for addition when a =  2 and b =  4  is  6\n",
      "Result for addition when a =  2 and b =  5  is  7\n",
      "Result for addition when a =  2 and b =  6  is  8\n",
      "Result for addition when a =  2 and b =  7  is  9\n",
      "Result for addition when a =  3 and b =  3  is  6\n",
      "Result for addition when a =  3 and b =  4  is  7\n",
      "Result for addition when a =  3 and b =  5  is  8\n",
      "Result for addition when a =  3 and b =  6  is  9\n",
      "Result for addition when a =  3 and b =  7  is  10\n",
      "Result for addition when a =  4 and b =  3  is  7\n",
      "Result for addition when a =  4 and b =  4  is  8\n",
      "Result for addition when a =  4 and b =  5  is  9\n",
      "Result for addition when a =  4 and b =  6  is  10\n",
      "Result for addition when a =  4 and b =  7  is  11\n",
      "Result for addition when a =  5 and b =  3  is  8\n",
      "Result for addition when a =  5 and b =  4  is  9\n",
      "Result for addition when a =  5 and b =  5  is  10\n",
      "Result for addition when a =  5 and b =  6  is  11\n",
      "Result for addition when a =  5 and b =  7  is  12\n"
     ]
    }
   ],
   "source": [
    "def fractran_add(a,b): #function instance\n",
    "    n=(2**a)*(3**b)\n",
    "    while(n%2==0):\n",
    "        n=(n*3)/2\n",
    "    return log_func(3,n)\n",
    "\n",
    "for a in range(1,6): #example usage\n",
    "    for b in range(3,8):\n",
    "        print (\"Result for addition when a = \",a,\"and b = \",b,\" is \",fractran_add(a,b))\n",
    "    \n",
    "        "
   ]
  },
  {
   "cell_type": "markdown",
   "id": "0a035a5f",
   "metadata": {},
   "source": [
    "# 3. Subtraction in FRACTRAN (25 pts)"
   ]
  },
  {
   "cell_type": "code",
   "execution_count": 44,
   "id": "8ec478ce",
   "metadata": {},
   "outputs": [
    {
     "name": "stdout",
     "output_type": "stream",
     "text": [
      "Result for subtraction when a =  5 and b =  1  is  4\n",
      "Result for subtraction when a =  5 and b =  2  is  3\n",
      "Result for subtraction when a =  5 and b =  3  is  2\n",
      "Result for subtraction when a =  5 and b =  4  is  1\n",
      "Result for subtraction when a =  5 and b =  5  is  0\n",
      "Result for subtraction when a =  6 and b =  1  is  5\n",
      "Result for subtraction when a =  6 and b =  2  is  4\n",
      "Result for subtraction when a =  6 and b =  3  is  3\n",
      "Result for subtraction when a =  6 and b =  4  is  2\n",
      "Result for subtraction when a =  6 and b =  5  is  1\n",
      "Result for subtraction when a =  7 and b =  1  is  6\n",
      "Result for subtraction when a =  7 and b =  2  is  5\n",
      "Result for subtraction when a =  7 and b =  3  is  4\n",
      "Result for subtraction when a =  7 and b =  4  is  3\n",
      "Result for subtraction when a =  7 and b =  5  is  2\n",
      "Result for subtraction when a =  8 and b =  1  is  7\n",
      "Result for subtraction when a =  8 and b =  2  is  6\n",
      "Result for subtraction when a =  8 and b =  3  is  5\n",
      "Result for subtraction when a =  8 and b =  4  is  4\n",
      "Result for subtraction when a =  8 and b =  5  is  3\n",
      "Result for subtraction when a =  9 and b =  1  is  8\n",
      "Result for subtraction when a =  9 and b =  2  is  7\n",
      "Result for subtraction when a =  9 and b =  3  is  6\n",
      "Result for subtraction when a =  9 and b =  4  is  5\n",
      "Result for subtraction when a =  9 and b =  5  is  4\n",
      "Result for subtraction when a =  10 and b =  1  is  9\n",
      "Result for subtraction when a =  10 and b =  2  is  8\n",
      "Result for subtraction when a =  10 and b =  3  is  7\n",
      "Result for subtraction when a =  10 and b =  4  is  6\n",
      "Result for subtraction when a =  10 and b =  5  is  5\n"
     ]
    }
   ],
   "source": [
    "def fractran_subt(a,b):  #function for fractran subtractions\n",
    "    n=(3**a)*(5**b)\n",
    "    while(n%15==0):\n",
    "        n=(n*2)/15\n",
    "    while (n%2==0):\n",
    "        n=n/2\n",
    "    return log_func(3,n)\n",
    "\n",
    "for a in range(5,11):   #example instance\n",
    "    for b in range(1,6):\n",
    "        print (\"Result for subtraction when a = \",a,\"and b = \",b,\" is \",fractran_subt(a,b))"
   ]
  },
  {
   "cell_type": "markdown",
   "id": "99800e50",
   "metadata": {},
   "source": [
    "# Extra Credit"
   ]
  },
  {
   "cell_type": "code",
   "execution_count": 7,
   "id": "b8cd5018",
   "metadata": {},
   "outputs": [
    {
     "name": "stdout",
     "output_type": "stream",
     "text": [
      "Result: 1/4\n"
     ]
    }
   ],
   "source": [
    "from fractions import Fraction     \n",
    "\n",
    "\n",
    "new_list = [Fraction(3, 2), Fraction(2, 15), Fraction(1, 2)]   #list \n",
    "\n",
    "\n",
    "#function for interpeter\n",
    "def fractran_interpreter(fraction_operations, initial_value):\n",
    "    current_value = Fraction(initial_value)\n",
    "    while True:\n",
    "        operation_applied = False\n",
    "        for operation in fraction_operations:\n",
    "            if current_value % operation == 0:\n",
    "                current_value *= operation\n",
    "                operation_applied = True\n",
    "                break\n",
    "        if not operation_applied:\n",
    "            break\n",
    "    return current_value\n",
    "\n",
    "result = fractran_interpreter(new_list, 1) #function for isntace\n",
    "\n",
    "print(\"Results:\", result)  \n",
    "\n",
    "            \n",
    "            \n",
    "            \n",
    "            "
   ]
  }
 ],
 "metadata": {
  "kernelspec": {
   "display_name": "Python 3 (ipykernel)",
   "language": "python",
   "name": "python3"
  },
  "language_info": {
   "codemirror_mode": {
    "name": "ipython",
    "version": 3
   },
   "file_extension": ".py",
   "mimetype": "text/x-python",
   "name": "python",
   "nbconvert_exporter": "python",
   "pygments_lexer": "ipython3",
   "version": "3.11.5"
  }
 },
 "nbformat": 4,
 "nbformat_minor": 5
}
